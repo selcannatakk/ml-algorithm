{
  "nbformat": 4,
  "nbformat_minor": 0,
  "metadata": {
    "colab": {
      "provenance": [],
      "collapsed_sections": [],
      "authorship_tag": "ABX9TyPDh3AirGRDcCZ5niYSGhMD",
      "include_colab_link": true
    },
    "kernelspec": {
      "name": "python3",
      "display_name": "Python 3"
    },
    "language_info": {
      "name": "python"
    },
    "accelerator": "GPU",
    "gpuClass": "standard"
  },
  "cells": [
    {
      "cell_type": "markdown",
      "metadata": {
        "id": "view-in-github",
        "colab_type": "text"
      },
      "source": [
        "<a href=\"https://colab.research.google.com/github/selcanatak2629/MachineLearning/blob/master/MachineLearning_Prediction.ipynb\" target=\"_parent\"><img src=\"https://colab.research.google.com/assets/colab-badge.svg\" alt=\"Open In Colab\"/></a>"
      ]
    },
    {
      "cell_type": "code",
      "source": [
        "import numpy as np\n",
        "import matplotlib.pyplot as plt\n",
        "import pandas as pd\n",
        "from sklearn.model_selection import train_test_split\n",
        "from sklearn.preprocessing import StandardScaler # normalizasyonda kullanabiliriz\n",
        "from sklearn.linear_model import LinearRegression\n"
      ],
      "metadata": {
        "id": "sDn5B2gWStGr"
      },
      "execution_count": null,
      "outputs": []
    },
    {
      "cell_type": "code",
      "source": [
        "#drive de customTF2 adlı klosor olusturup,train ve veri klasörleri olusturma\n",
        "# google drivide gereklı klosorlerı olusturup hazırlık yapma\n",
        "#şimdide drivera bağlanıyoruz\n",
        "from google.colab import drive\n",
        "drive.mount('/content/gdrive')\n",
        "\n",
        "# this creates a symbolic link so that now the path /content/gdrive/My\\ Drive/ is equal to /mydrive\n",
        "!ln -s /content/gdrive/My\\ Drive/ /mydrive\n",
        "!ls /mydrive"
      ],
      "metadata": {
        "colab": {
          "base_uri": "https://localhost:8080/"
        },
        "id": "DQiDyCN2StJo",
        "outputId": "3096cf5e-3ea1-4bc2-bb57-9edda311e6c4"
      },
      "execution_count": null,
      "outputs": [
        {
          "output_type": "stream",
          "name": "stdout",
          "text": [
            "Mounted at /content/gdrive\n",
            "'Artificial Intelligence'\t     mask_test_images\n",
            " Cognitiwe\t\t\t     MyDrive\n",
            "'Colab Notebooks'\t\t    'My Drive'\n",
            " customTF2\t\t\t    'Selcan_ATAK_CV (1).pdf'\n",
            " customTF22\t\t\t    'Selcan_ATAK_CV (2).pdf'\n",
            " KafkaCloudKurulumNotlari_yeni.txt   Selcan_ATAK_CV.pdf\n",
            " local_pc\t\t\t     titanic\n",
            " MachineLearningData\t\t     yolov4\n",
            " maske_algilama\n"
          ]
        }
      ]
    },
    {
      "cell_type": "code",
      "source": [
        "%cd /content/gdrive/MyDrive/MachineLearningData\n"
      ],
      "metadata": {
        "colab": {
          "base_uri": "https://localhost:8080/"
        },
        "id": "yon3-3KxStM8",
        "outputId": "0ad892b1-0e5f-47f5-abd7-abb62e259c37"
      },
      "execution_count": null,
      "outputs": [
        {
          "output_type": "stream",
          "name": "stdout",
          "text": [
            "/content/gdrive/MyDrive/MachineLearningData\n"
          ]
        }
      ]
    },
    {
      "cell_type": "code",
      "source": [
        "datas = pd.read_csv('satislar.csv')\n",
        "print(datas)"
      ],
      "metadata": {
        "colab": {
          "base_uri": "https://localhost:8080/"
        },
        "id": "06u3PSAdStP-",
        "outputId": "00e2f292-779d-4f1c-f403-d89d7f063bd6"
      },
      "execution_count": null,
      "outputs": [
        {
          "output_type": "stream",
          "name": "stdout",
          "text": [
            "    Aylar  Satislar\n",
            "0       8   19671.5\n",
            "1      10   23102.5\n",
            "2      11   18865.5\n",
            "3      13   21762.5\n",
            "4      14   19945.5\n",
            "5      19   28321.0\n",
            "6      19   30075.0\n",
            "7      20   27222.5\n",
            "8      20   32222.5\n",
            "9      24   28594.5\n",
            "10     25   31609.0\n",
            "11     25   27897.0\n",
            "12     25   28478.5\n",
            "13     26   28540.5\n",
            "14     29   30555.5\n",
            "15     31   33969.0\n",
            "16     32   33014.5\n",
            "17     34   41544.0\n",
            "18     37   40681.5\n",
            "19     37    4697.0\n",
            "20     42   45869.0\n",
            "21     44   49136.5\n",
            "22     49   50651.0\n",
            "23     50   56906.0\n",
            "24     54   54715.5\n",
            "25     55   52791.0\n",
            "26     59   58484.5\n",
            "27     59   56317.5\n",
            "28     64   61195.5\n",
            "29     65   60936.0\n"
          ]
        }
      ]
    },
    {
      "cell_type": "code",
      "source": [
        "aylar = datas[['Aylar']]\n",
        "satislar = datas[['Satislar']]\n",
        "print(aylar)\n",
        "print(satislar)"
      ],
      "metadata": {
        "colab": {
          "base_uri": "https://localhost:8080/"
        },
        "id": "VNYBJiUEVtrX",
        "outputId": "4d0f6122-b24c-4392-a901-2f2daf3c38e8"
      },
      "execution_count": null,
      "outputs": [
        {
          "output_type": "stream",
          "name": "stdout",
          "text": [
            "    Aylar\n",
            "0       8\n",
            "1      10\n",
            "2      11\n",
            "3      13\n",
            "4      14\n",
            "5      19\n",
            "6      19\n",
            "7      20\n",
            "8      20\n",
            "9      24\n",
            "10     25\n",
            "11     25\n",
            "12     25\n",
            "13     26\n",
            "14     29\n",
            "15     31\n",
            "16     32\n",
            "17     34\n",
            "18     37\n",
            "19     37\n",
            "20     42\n",
            "21     44\n",
            "22     49\n",
            "23     50\n",
            "24     54\n",
            "25     55\n",
            "26     59\n",
            "27     59\n",
            "28     64\n",
            "29     65\n",
            "    Satislar\n",
            "0    19671.5\n",
            "1    23102.5\n",
            "2    18865.5\n",
            "3    21762.5\n",
            "4    19945.5\n",
            "5    28321.0\n",
            "6    30075.0\n",
            "7    27222.5\n",
            "8    32222.5\n",
            "9    28594.5\n",
            "10   31609.0\n",
            "11   27897.0\n",
            "12   28478.5\n",
            "13   28540.5\n",
            "14   30555.5\n",
            "15   33969.0\n",
            "16   33014.5\n",
            "17   41544.0\n",
            "18   40681.5\n",
            "19    4697.0\n",
            "20   45869.0\n",
            "21   49136.5\n",
            "22   50651.0\n",
            "23   56906.0\n",
            "24   54715.5\n",
            "25   52791.0\n",
            "26   58484.5\n",
            "27   56317.5\n",
            "28   61195.5\n",
            "29   60936.0\n"
          ]
        }
      ]
    },
    {
      "cell_type": "code",
      "source": [
        "satislar2 = datas.iloc[:,:1].values\n",
        "print(satislar2)"
      ],
      "metadata": {
        "colab": {
          "base_uri": "https://localhost:8080/"
        },
        "id": "78dO47GnVtt4",
        "outputId": "e3e4c003-ddec-4a01-a1f4-b591ccb33509"
      },
      "execution_count": null,
      "outputs": [
        {
          "output_type": "stream",
          "name": "stdout",
          "text": [
            "[[ 8]\n",
            " [10]\n",
            " [11]\n",
            " [13]\n",
            " [14]\n",
            " [19]\n",
            " [19]\n",
            " [20]\n",
            " [20]\n",
            " [24]\n",
            " [25]\n",
            " [25]\n",
            " [25]\n",
            " [26]\n",
            " [29]\n",
            " [31]\n",
            " [32]\n",
            " [34]\n",
            " [37]\n",
            " [37]\n",
            " [42]\n",
            " [44]\n",
            " [49]\n",
            " [50]\n",
            " [54]\n",
            " [55]\n",
            " [59]\n",
            " [59]\n",
            " [64]\n",
            " [65]]\n"
          ]
        }
      ]
    },
    {
      "cell_type": "code",
      "source": [
        "x_train, x_test, y_train, y_test = train_test_split(aylar, satislar, test_size = 0.33, random_state = 0)"
      ],
      "metadata": {
        "id": "aIi8BardVtwj"
      },
      "execution_count": null,
      "outputs": []
    },
    {
      "cell_type": "code",
      "source": [
        "sc = StandardScaler()\n",
        "X_train = sc.fit_transform(x_train)\n",
        "X_test = sc.fit_transform(x_test)\n",
        "Y_train = sc.fit_transform(y_train)\n",
        "Y_test = sc.fit_transform(y_test)"
      ],
      "metadata": {
        "id": "rmEFuIbFVtzU"
      },
      "execution_count": null,
      "outputs": []
    },
    {
      "cell_type": "code",
      "source": [
        "print(X_train)"
      ],
      "metadata": {
        "colab": {
          "base_uri": "https://localhost:8080/"
        },
        "id": "A-eUA2gfZKVA",
        "outputId": "e765068d-e7fa-4407-bcae-b58b42db3b2a"
      },
      "execution_count": null,
      "outputs": [
        {
          "output_type": "stream",
          "name": "stdout",
          "text": [
            "[[-0.70368853]\n",
            " [ 0.15126015]\n",
            " [-0.63792324]\n",
            " [-0.0460357 ]\n",
            " [ 1.33503524]\n",
            " [ 0.80891298]\n",
            " [-1.29557607]\n",
            " [ 2.32151449]\n",
            " [-0.70368853]\n",
            " [-1.03251494]\n",
            " [ 0.48008657]\n",
            " [ 0.48008657]\n",
            " [-0.37486211]\n",
            " [-0.63792324]\n",
            " [ 1.66386166]\n",
            " [-1.09828023]\n",
            " [-1.42710664]\n",
            " [ 0.94044355]\n",
            " [ 0.08549487]\n",
            " [-0.30909683]]\n"
          ]
        }
      ]
    },
    {
      "cell_type": "code",
      "source": [
        "print(X_test)"
      ],
      "metadata": {
        "colab": {
          "base_uri": "https://localhost:8080/"
        },
        "id": "YE0Ym1aZZSiD",
        "outputId": "41390f18-2168-4869-9ce8-6e06b1a12a36"
      },
      "execution_count": null,
      "outputs": [
        {
          "output_type": "stream",
          "name": "stdout",
          "text": [
            "[[-1.68268756]\n",
            " [ 1.33023274]\n",
            " [-0.82997427]\n",
            " [-0.88682182]\n",
            " [ 1.04599497]\n",
            " [ 0.76175721]\n",
            " [ 1.04599497]\n",
            " [-0.88682182]\n",
            " [-0.37519385]\n",
            " [ 0.47751944]]\n"
          ]
        }
      ]
    },
    {
      "cell_type": "code",
      "source": [
        "#Linear Regrasyon Modeli\n",
        "lr = LinearRegression() \n",
        "lr.fit(X_train, Y_train)"
      ],
      "metadata": {
        "colab": {
          "base_uri": "https://localhost:8080/"
        },
        "id": "ZN3cBhm2aXTb",
        "outputId": "ea4124f6-dbf8-4827-c344-7c32d53c99fe"
      },
      "execution_count": null,
      "outputs": [
        {
          "output_type": "execute_result",
          "data": {
            "text/plain": [
              "LinearRegression()"
            ]
          },
          "metadata": {},
          "execution_count": 30
        }
      ]
    },
    {
      "cell_type": "code",
      "source": [
        "#predict\n",
        "predict = lr.predict(X_test)"
      ],
      "metadata": {
        "id": "WTTJR_h6aXWG"
      },
      "execution_count": null,
      "outputs": []
    },
    {
      "cell_type": "code",
      "source": [
        "#Gorsellestirme\n",
        "x_train = x_train.sort_index() # indexlere gore sirala\n",
        "y_train = y_train.sort_index()\n",
        "plt.plot(x_train, y_train)\n",
        "plt.plot(x_test, lr.predict(X_test))\n",
        "\n",
        "plt.title(\"Aylara Gore Satis\")\n",
        "plt.xlabel(\"Aylar\")\n",
        "plt.ylabel(\"Satislar\")"
      ],
      "metadata": {
        "colab": {
          "base_uri": "https://localhost:8080/",
          "height": 312
        },
        "id": "DlHTXeQDcCqe",
        "outputId": "b4b38376-c1b4-416c-f51a-8e4a30e118c0"
      },
      "execution_count": null,
      "outputs": [
        {
          "output_type": "execute_result",
          "data": {
            "text/plain": [
              "Text(0, 0.5, 'Satislar')"
            ]
          },
          "metadata": {},
          "execution_count": 36
        },
        {
          "output_type": "display_data",
          "data": {
            "text/plain": [
              "<Figure size 432x288 with 1 Axes>"
            ],
            "image/png": "[encoded data removed]"
          },
          "metadata": {
            "needs_background": "light"
          }
        }
      ]
    },
    {
      "cell_type": "code",
      "source": [],
      "metadata": {
        "id": "qoccu1BQcCst"
      },
      "execution_count": null,
      "outputs": []
    }
  ]
}